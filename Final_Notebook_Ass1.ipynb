{
 "cells": [
  {
   "cell_type": "code",
   "execution_count": 10,
   "id": "881e2523",
   "metadata": {},
   "outputs": [],
   "source": [
    "\n",
    "import pprint as pp\n",
    "import json\n",
    "import os\n",
    "import pprint\n",
    "import plotly.express as px\n",
    "from itertools import chain\n",
    "import requests\n",
    "import pprint\n",
    "from plotly.subplots import make_subplots\n",
    "import plotly.graph_objects as go\n",
    "from datetime import datetime\n",
    "import plotly.offline as off\n",
    "import ipywidgets as widgets\n",
    "import statistics\n",
    "from datetime import datetime\n",
    "import statistics\n"
   ]
  },
  {
   "cell_type": "code",
   "execution_count": 2,
   "id": "3d377add",
   "metadata": {},
   "outputs": [],
   "source": [
    "# starting code that loads data, run this cell, but no need to understand it in depth\n",
    "# this function just loads the data from files\n",
    "def load_json_file_named(file_name):\n",
    "    try: \n",
    "        loaded_data = []\n",
    "        file_location = f\"{file_name}\"\n",
    "        with open(file_location, 'r') as file: # or f\"data/{file_name}\" depending on your files\n",
    "            loaded_data =  json.load(file)\n",
    "    except OSError as e:\n",
    "        print(f\"Error. Does the file exist in this folder? {file_location}\\n\\n {e}\")\n",
    "    return loaded_data"
   ]
  },
  {
   "cell_type": "markdown",
   "id": "75a031ad",
   "metadata": {},
   "source": [
    "Loading all Json Datasets (We restrict our analysis to the first two datasets)"
   ]
  },
  {
   "cell_type": "code",
   "execution_count": 30,
   "id": "edab8116",
   "metadata": {},
   "outputs": [],
   "source": [
    "\n",
    "nhs_boards_info = load_json_file_named('nhs_scotland_boards.json')\n",
    "covid_summary = load_json_file_named('covid_records_scotland.json')\n"
   ]
  },
  {
   "cell_type": "markdown",
   "id": "af29875a",
   "metadata": {},
   "source": [
    "The below function aims to exploit all values in a nested dictionary, thereby summarising it into nested key/value structures and consequently giving us a list type inference."
   ]
  },
  {
   "cell_type": "code",
   "execution_count": 31,
   "id": "c87f5d63",
   "metadata": {},
   "outputs": [],
   "source": [
    "def extract_all_values(dict_of_interest, dimension):\n",
    "    value_list_def = list(value for key, value in dict_of_interest.items())\n",
    "    key_list_def = list(key for key, value in dict_of_interest.items())\n",
    "    result = key_list_def if dimension == \"key\" else value_list_def\n",
    "    return result"
   ]
  },
  {
   "cell_type": "markdown",
   "id": "0e7163f8",
   "metadata": {},
   "source": [
    "We aim to compress values to lists based on dictionary dimensions using the defined function"
   ]
  },
  {
   "cell_type": "markdown",
   "id": "6bb6ad85",
   "metadata": {},
   "source": [
    "To essentially visualise how the budget is distributed over years, and across each region a sunburst visualisation is used. We are able to understand the hierarchial spread as such."
   ]
  },
  {
   "cell_type": "code",
   "execution_count": 32,
   "id": "c33a8444",
   "metadata": {},
   "outputs": [],
   "source": [
    "\n",
    "\n",
    "\n",
    "budget_count = list(chain(*list(extract_all_values(boards['budget_millions'], \"values\") for boards in nhs_boards_info)))\n",
    "\n",
    "# All 14 regions\n",
    "regions = list(boards['name'] for boards in nhs_boards_info)\n",
    "# List of all \"year\" attributes\n",
    "years = list(chain(*list(extract_all_values(boards['budget_millions'], \"key\") for boards in nhs_boards_info)))\n",
    "\n",
    "#list indicating the number of staff for all regions\n",
    "staff_count = list(extract_all_values(boards['people'], \"values\") for boards in boards_info)\n",
    "staff_count = [list(staff) for staff in zip(*staff_count)][1]\n",
    "\n",
    "#Extracting Area in Km2 through a list\n",
    "area_in_km2 = list(extract_all_values(boards['geographic'], \"values\") for boards in boards_info)\n",
    "area_in_km2 = [list(area) for area in zip(*area_in_km2)][0]\n",
    "\n",
    "#Determining a staff per km2 area count\n",
    "staff_per_area = [round(staff/area,2) for staff,area in zip(staff_count, area_in_km2)]\n",
    "\n",
    "dates_covid_data = list(datetime.strptime(str(date),\"%Y%m%d\") for date in list(i['date'] for i in covid_days))\n",
    "\n"
   ]
  },
  {
   "cell_type": "markdown",
   "id": "cd55ad7d",
   "metadata": {},
   "source": [
    "Now for the covid days dataset we create a function where we want to plot the time series graph of each of the NHS centers. Here we plot four graphs for each center- one for the number of new positive cases, number of new deaths, number of first infections and lastly number of reinfections"
   ]
  },
  {
   "cell_type": "code",
   "execution_count": 37,
   "id": "ba21fb0b",
   "metadata": {},
   "outputs": [],
   "source": [
    "\n",
    "\n",
    "def plot_dashboard(name_nhs_center):\n",
    "    number_of_new_positive = []\n",
    "    number_of_new_deaths = []\n",
    "    number_of_first_infections = []\n",
    "    number_of_reinfections = []\n",
    "    input_dictionary = covid_days\n",
    "\n",
    "    for part_dictionary in input_dictionary:\n",
    "     if name_nhs_center == \"whole_scotland\" :\n",
    "        fig = make_subplots(rows=2, cols=2, vertical_spacing=0.1, specs=[[{\"type\": \"xy\"}, {\"type\": \"xy\"}], [{\"type\": \"xy\"}, {\"type\": \"sunburst\"}]])\n",
    "        number_of_new_positive.append(part_dictionary['whole_scotland']['new_positive'])\n",
    "        number_of_new_deaths.append(part_dictionary['whole_scotland']['new_deaths'])\n",
    "        number_of_first_infections.append(part_dictionary['whole_scotland']['first_infections'])\n",
    "        number_of_reinfections.append(part_dictionary['whole_scotland']['reinfections'])\n",
    "\n",
    "\n",
    "     else:\n",
    "         fig = make_subplots(rows=2, cols=2, vertical_spacing=0.1, specs=[[{\"type\": \"xy\"}, {\"type\": \"xy\"}], [{\"type\": \"xy\"}, {\"type\": \"pie\"}]])\n",
    "\n",
    "         if part_dictionary['locations'][name_nhs_center] == {}:\n",
    "            number_of_new_positive.append(0)\n",
    "            number_of_new_deaths.append(0)\n",
    "            number_of_first_infections.append(0)\n",
    "            number_of_reinfections.append(0)\n",
    "         else:\n",
    "            number_of_new_positive.append(part_dictionary['locations'][name_nhs_center]['new_positive'])\n",
    "            number_of_new_deaths.append(part_dictionary['locations'][name_nhs_center]['new_deaths'])\n",
    "            number_of_first_infections.append(part_dictionary['locations'][name_nhs_center]['first_infections'])\n",
    "            number_of_reinfections.append(part_dictionary['locations'][name_nhs_center]['reinfections'])\n",
    "    \n",
    "           \n",
    "    \n",
    "    budget_count_specific = list(chain(*list(extract_all_values(board['budget_millions'], \"values\") for board in boards_info if board['name'] == name_nhs_center)))\n",
    "    years_specific = list(chain(*list(extract_all_values(board['budget_millions'], \"keys\") for board in boards_info if board['name'] == name_nhs_center)))\n",
    "    mean_new_positive = statistics.mean(number_of_new_positive)\n",
    "    mean_new_deaths = statistics.mean(number_of_new_deaths)\n",
    "    mean_first_infections = statistics.mean(number_of_first_infections)\n",
    "    \n",
    "    \n",
    "    data_sunburst = dict(\n",
    "    budget_count = budget_count,\n",
    "    regions = list(i for i in regions for _ in range(3)) ,\n",
    "    years = years,\n",
    "    staff_per_area_km2 = list(staff for staff in staff_per_area for _ in range(3))\n",
    "    )\n",
    "\n",
    "\n",
    "    figsun = px.sunburst(data_sunburst,\n",
    "                         path= ['regions', 'years'], \n",
    "                         values = 'budget_count',\n",
    "                         hover_data= ['staff_per_area_km2'],\n",
    "                         title = \"SunBurst Chart of Accumulated Budgets over years for different NHS bases\",\n",
    "                        )\n",
    "    fig_pi = go.Figure(data = [go.Pie(labels= years, values = budget_count_specific, textinfo = 'label', hovertext= ['budget_count'])])\n",
    "\n",
    "    # figsun.add_trace(hovertemplate='<b>%{label} </b> <br> Sales: %{value}<br> Success rate: %{color:.2f}',)\n",
    "    fig.add_trace(go.Scatter(x=dates_covid_data, y=number_of_new_positive, name=\"Number of New Positive Cases\"), row=1, col=1)\n",
    "    fig.add_trace(go.Scatter(x=dates_covid_data, y=number_of_new_deaths, name=\"Number Of New Deaths\"), row=2, col=1)\n",
    "    fig.add_trace(go.Scatter(x=dates_covid_data, y = number_of_first_infections, name=\"Number of First Infections Cases\"), row=1, col=2)\n",
    "    fig.add_hline(y=mean_new_positive, line_dash=\"dash\", line_color=\"black\", annotation_text=f\"Mean: {mean_new_positive:.2f}\", row=1, col=1)\n",
    "    fig.add_hline(y=mean_new_deaths, line_dash=\"dash\", line_color=\"black\", annotation_text=f\"Mean: {mean_new_deaths:.2f}\", row=2, col=1)\n",
    "    fig.add_hline(y=mean_first_infections, line_dash=\"dash\", line_color=\"black\", annotation_text=f\"Mean: {mean_first_infections:.2f}\", row=1, col=2)\n",
    "\n",
    "    if name_nhs_center == \"whole_scotland\" :\n",
    "       fig.add_trace(figsun.data[0],row=2,col=2)\n",
    "       fig.update_traces(customdata = list(staff_per_area*4) ,hovertemplate='<b>%{label} </b> <br> Staff per square km: %{customdata}<br> Budget in billions : %{value}', row = 2, col= 2)\n",
    "       fig.update_layout(height=1200, width=1500, title_text= \"Time series graphs and Sunburst chart of Budget distribution over years and NHS zones for the Whole of Scotland\")\n",
    "\n",
    "       \n",
    "\n",
    "    else:   \n",
    "       fig.add_trace(fig_pi.data[0],row=2,col=2)\n",
    "       fig.update_traces(hovertemplate='<br> Budget in billions : %{value}', row = 2, col= 2)\n",
    "       fig.update_layout(height=1200, width=1500, title_text= \" Time series graphs and Pie chart of Budget distribution over years for: \" + str(name_nhs_center))\n",
    "\n",
    "       \n",
    "   \n",
    "    \n",
    "    fig.update_yaxes(title_text=\"Count of new positive Cases\", row=1, col=1)\n",
    "    fig.update_yaxes(title_text=\"Count of Deaths due to Covid\", row=2, col=1)\n",
    "    fig.update_yaxes(title_text=\"Count of Covid-19 First infections\", row=1, col=2)\n",
    "    fig.update_coloraxes(title_text=\"Budget Split over years and NHS Zones\", row=2, col=2)\n",
    "    \n",
    "    fig.update_xaxes(title_text=\"Date\", row=1, col=1)\n",
    "    fig.update_xaxes(title_text=\"Date\", row=2, col=1)\n",
    "    fig.update_xaxes(title_text=\"Date\", row=1, col=2)\n",
    "\n",
    "    \n",
    "\n",
    "   \n",
    "    fig.show()"
   ]
  },
  {
   "cell_type": "markdown",
   "id": "d2651250",
   "metadata": {},
   "source": [
    "Below if a for loop which calls our plot time series fucntions and plots the graphs for different centers. Here we provide our covid days json as input with the name of the nhs center and thus create the graphs on a loop"
   ]
  },
  {
   "cell_type": "code",
   "execution_count": 36,
   "id": "acbb1039",
   "metadata": {},
   "outputs": [
    {
     "data": {
      "application/vnd.jupyter.widget-view+json": {
       "model_id": "aa3a7bd66c974f7698b17ff8f7e6c091",
       "version_major": 2,
       "version_minor": 0
      },
      "text/plain": [
       "interactive(children=(Dropdown(description='Select Area of interest', options=('whole_scotland', 'NHS Ayrshire…"
      ]
     },
     "metadata": {},
     "output_type": "display_data"
    },
    {
     "data": {
      "text/plain": [
       "<function __main__.plot_dashboard(name_nhs_center)>"
      ]
     },
     "execution_count": 36,
     "metadata": {},
     "output_type": "execute_result"
    }
   ],
   "source": [
    "dropdown_values = list(covid_days[0].keys())[1:2]\n",
    "dropdown_values.extend(covid_days[0]['locations'].keys())\n",
    "widgets.interact(plot_dashboard, name_nhs_center=widgets.Dropdown(options=dropdown_values, description = \"Select Area of interest\"))"
   ]
  }
 ],
 "metadata": {
  "kernelspec": {
   "display_name": "Python 3 (ipykernel)",
   "language": "python",
   "name": "python3"
  },
  "language_info": {
   "codemirror_mode": {
    "name": "ipython",
    "version": 3
   },
   "file_extension": ".py",
   "mimetype": "text/x-python",
   "name": "python",
   "nbconvert_exporter": "python",
   "pygments_lexer": "ipython3",
   "version": "3.9.13"
  }
 },
 "nbformat": 4,
 "nbformat_minor": 5
}
