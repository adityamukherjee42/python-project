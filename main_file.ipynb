{
 "cells": [
  {
   "cell_type": "code",
   "execution_count": 3,
   "id": "881e2523",
   "metadata": {},
   "outputs": [],
   "source": [
    "#Loading all necessary Libraries for analysis\n",
    "\n",
    "import pprint as pp\n",
    "import json\n",
    "import json\n",
    "import os\n",
    "import pprint\n",
    "import plotly.express as px\n",
    "from itertools import chain\n",
    "import pandas as pd\n",
    "import requests\n",
    "import pprint\n",
    "from plotly.subplots import make_subplots\n",
    "import plotly.graph_objects as go\n",
    "from datetime import datetime\n"
   ]
  },
  {
   "cell_type": "code",
   "execution_count": 4,
   "id": "3d377add",
   "metadata": {},
   "outputs": [],
   "source": [
    "# starting code that loads data, run this cell, but no need to understand it in depth\n",
    "# this function just loads the data from files\n",
    "def load_json_file_named(file_name):\n",
    "    try: \n",
    "        loaded_data = []\n",
    "        file_location = f\"{file_name}\"\n",
    "        with open(file_location, 'r') as file: # or f\"data/{file_name}\" depending on your files\n",
    "            loaded_data =  json.load(file)\n",
    "    except OSError as e:\n",
    "        print(f\"Error. Does the file exist in this folder? {file_location}\\n\\n {e}\")\n",
    "    return loaded_data"
   ]
  },
  {
   "cell_type": "markdown",
   "id": "75a031ad",
   "metadata": {},
   "source": [
    "Loading all Json Datasets (We restrict our analysis to the first two datasets)"
   ]
  },
  {
   "cell_type": "code",
   "execution_count": 5,
   "id": "edab8116",
   "metadata": {},
   "outputs": [],
   "source": [
    "boards_info = load_json_file_named('nhs_scotland_boards.json')\n",
    "covid_days = load_json_file_named('covid_records_scotland.json')\n",
    "cancer_waiting_times = load_json_file_named('cancer_waiting_times.json')\n",
    "boards_code_lookup = load_json_file_named('boards_code_lookup.json')"
   ]
  },
  {
   "cell_type": "markdown",
   "id": "af29875a",
   "metadata": {},
   "source": [
    "The below function aims to exploit all values in a nested dictionary, thereby summarising it into nested key/value structures and consequently giving us a list type inference."
   ]
  },
  {
   "cell_type": "code",
   "execution_count": 6,
   "id": "c87f5d63",
   "metadata": {},
   "outputs": [],
   "source": [
    "def extract_all_values(dict_temp, dimension):\n",
    "    value_list_def = list(value for key, value in dict_temp.items())\n",
    "    key_list_def = list(key for key, value in dict_temp.items())\n",
    "    result = key_list_def if dimension == \"key\" else value_list_def\n",
    "    return result"
   ]
  },
  {
   "cell_type": "markdown",
   "id": "0e7163f8",
   "metadata": {},
   "source": [
    "We aim to compress values to lists based on dictionary dimensions using the defined function"
   ]
  },
  {
   "cell_type": "code",
   "execution_count": 7,
   "id": "6042bf99",
   "metadata": {},
   "outputs": [],
   "source": [
    "# Budget over 3 years for all 14 NHS zones.\n",
    "budget_count = list(chain(*list(extract_all_values(i['budget_millions'], \"values\") for i in boards_info)))\n",
    "\n",
    "# All 14 regions\n",
    "regions = list(i['name'] for i in boards_info)\n",
    "# List of all \"year\" attributes\n",
    "year_mapping = list(chain(*list(extract_all_values(i['budget_millions'], \"key\") for i in boards_info)))\n",
    "\n",
    "#list indicating the number of staff for all regions\n",
    "staff_count = list(extract_all_values(i['people'], \"values\") for i in boards_info)\n",
    "staff_count = [list(i) for i in zip(*staff_count)][1]\n",
    "\n",
    "#Extracting Area in Km2 through a list\n",
    "area_in_km2 = list(extract_all_values(i['geographic'], \"values\") for i in boards_info)\n",
    "area_in_km2 = [list(i) for i in zip(*area_in_km2)][0]\n",
    "\n",
    "#Calculating a staff per km2 area count\n",
    "staff_per_area = [round(staff/area,2) for staff,area in zip(staff_count, area_in_km2)]"
   ]
  },
  {
   "cell_type": "markdown",
   "id": "6bb6ad85",
   "metadata": {},
   "source": [
    "To essentially visualise how the budget is distributed over years, and across each region a sunburst visualisation is used. We are able to understand the hierarchial spread as such."
   ]
  },
  {
   "cell_type": "code",
   "execution_count": 18,
   "id": "c33a8444",
   "metadata": {},
   "outputs": [
    {
     "data": {
      "application/vnd.plotly.v1+json": {
       "config": {
        "plotlyServerURL": "https://plot.ly"
       },
       "data": [
        {
         "branchvalues": "total",
         "customdata": [
          [
           762
          ],
          [
           220
          ],
          [
           316
          ],
          [
           702
          ],
          [
           559
          ],
          [
           1014
          ],
          [
           2365
          ],
          [
           666
          ],
          [
           1268
          ],
          [
           1540
          ],
          [
           53
          ],
          [
           54
          ],
          [
           809
          ],
          [
           80
          ],
          [
           775
          ],
          [
           223
          ],
          [
           321
          ],
          [
           713
          ],
          [
           569
          ],
          [
           1028
          ],
          [
           2398
          ],
          [
           692
          ],
          [
           1286
          ],
          [
           1570
          ],
          [
           55
          ],
          [
           55
          ],
          [
           820
          ],
          [
           81
          ],
          [
           807
          ],
          [
           235
          ],
          [
           334
          ],
          [
           749
          ],
          [
           598
          ],
          [
           1072
          ],
          [
           2504
          ],
          [
           726
          ],
          [
           1347
          ],
          [
           1639
          ],
          [
           57
          ],
          [
           57
          ],
          [
           857
          ],
          [
           85
          ],
          [
           781.7909556313994
          ],
          [
           226.18584070796462
          ],
          [
           323.8444902162719
          ],
          [
           721.8918669131239
          ],
          [
           575.8088064889919
          ],
          [
           1038.5883108542068
          ],
          [
           2423.7849181230217
          ],
          [
           695.535508637236
          ],
          [
           1301.2122532683927
          ],
          [
           1584.085281111813
          ],
          [
           55.04848484848485
          ],
          [
           55.36144578313253
          ],
          [
           829.1753821399839
          ],
          [
           82.0569105691057
          ]
         ],
         "domain": {
          "x": [
           0,
           1
          ],
          "y": [
           0,
           1
          ]
         },
         "hovertemplate": "labels=%{label}<br>budget_count_sum=%{value}<br>parent=%{parent}<br>id=%{id}<br>budget_count=%{color}<extra></extra>",
         "ids": [
          "NHS Ayrshire and Arran/2020",
          "NHS Borders/2020",
          "NHS Dumfries and Galloway/2020",
          "NHS Fife/2020",
          "NHS Forth Valley/2020",
          "NHS Grampian/2020",
          "NHS Greater Glasgow and Clyde/2020",
          "NHS Highland/2020",
          "NHS Lanarkshire/2020",
          "NHS Lothian/2020",
          "NHS Orkney/2020",
          "NHS Shetland/2020",
          "NHS Tayside/2020",
          "NHS Western Isles/2020",
          "NHS Ayrshire and Arran/2021",
          "NHS Borders/2021",
          "NHS Dumfries and Galloway/2021",
          "NHS Fife/2021",
          "NHS Forth Valley/2021",
          "NHS Grampian/2021",
          "NHS Greater Glasgow and Clyde/2021",
          "NHS Highland/2021",
          "NHS Lanarkshire/2021",
          "NHS Lothian/2021",
          "NHS Orkney/2021",
          "NHS Shetland/2021",
          "NHS Tayside/2021",
          "NHS Western Isles/2021",
          "NHS Ayrshire and Arran/2022",
          "NHS Borders/2022",
          "NHS Dumfries and Galloway/2022",
          "NHS Fife/2022",
          "NHS Forth Valley/2022",
          "NHS Grampian/2022",
          "NHS Greater Glasgow and Clyde/2022",
          "NHS Highland/2022",
          "NHS Lanarkshire/2022",
          "NHS Lothian/2022",
          "NHS Orkney/2022",
          "NHS Shetland/2022",
          "NHS Tayside/2022",
          "NHS Western Isles/2022",
          "NHS Ayrshire and Arran",
          "NHS Borders",
          "NHS Dumfries and Galloway",
          "NHS Fife",
          "NHS Forth Valley",
          "NHS Grampian",
          "NHS Greater Glasgow and Clyde",
          "NHS Highland",
          "NHS Lanarkshire",
          "NHS Lothian",
          "NHS Orkney",
          "NHS Shetland",
          "NHS Tayside",
          "NHS Western Isles"
         ],
         "labels": [
          "2020",
          "2020",
          "2020",
          "2020",
          "2020",
          "2020",
          "2020",
          "2020",
          "2020",
          "2020",
          "2020",
          "2020",
          "2020",
          "2020",
          "2021",
          "2021",
          "2021",
          "2021",
          "2021",
          "2021",
          "2021",
          "2021",
          "2021",
          "2021",
          "2021",
          "2021",
          "2021",
          "2021",
          "2022",
          "2022",
          "2022",
          "2022",
          "2022",
          "2022",
          "2022",
          "2022",
          "2022",
          "2022",
          "2022",
          "2022",
          "2022",
          "2022",
          "NHS Ayrshire and Arran",
          "NHS Borders",
          "NHS Dumfries and Galloway",
          "NHS Fife",
          "NHS Forth Valley",
          "NHS Grampian",
          "NHS Greater Glasgow and Clyde",
          "NHS Highland",
          "NHS Lanarkshire",
          "NHS Lothian",
          "NHS Orkney",
          "NHS Shetland",
          "NHS Tayside",
          "NHS Western Isles"
         ],
         "marker": {
          "coloraxis": "coloraxis",
          "colors": [
           762,
           220,
           316,
           702,
           559,
           1014,
           2365,
           666,
           1268,
           1540,
           53,
           54,
           809,
           80,
           775,
           223,
           321,
           713,
           569,
           1028,
           2398,
           692,
           1286,
           1570,
           55,
           55,
           820,
           81,
           807,
           235,
           334,
           749,
           598,
           1072,
           2504,
           726,
           1347,
           1639,
           57,
           57,
           857,
           85,
           781.7909556313994,
           226.18584070796462,
           323.8444902162719,
           721.8918669131239,
           575.8088064889919,
           1038.5883108542068,
           2423.7849181230217,
           695.535508637236,
           1301.2122532683927,
           1584.085281111813,
           55.04848484848485,
           55.36144578313253,
           829.1753821399839,
           82.0569105691057
          ]
         },
         "name": "",
         "parents": [
          "NHS Ayrshire and Arran",
          "NHS Borders",
          "NHS Dumfries and Galloway",
          "NHS Fife",
          "NHS Forth Valley",
          "NHS Grampian",
          "NHS Greater Glasgow and Clyde",
          "NHS Highland",
          "NHS Lanarkshire",
          "NHS Lothian",
          "NHS Orkney",
          "NHS Shetland",
          "NHS Tayside",
          "NHS Western Isles",
          "NHS Ayrshire and Arran",
          "NHS Borders",
          "NHS Dumfries and Galloway",
          "NHS Fife",
          "NHS Forth Valley",
          "NHS Grampian",
          "NHS Greater Glasgow and Clyde",
          "NHS Highland",
          "NHS Lanarkshire",
          "NHS Lothian",
          "NHS Orkney",
          "NHS Shetland",
          "NHS Tayside",
          "NHS Western Isles",
          "NHS Ayrshire and Arran",
          "NHS Borders",
          "NHS Dumfries and Galloway",
          "NHS Fife",
          "NHS Forth Valley",
          "NHS Grampian",
          "NHS Greater Glasgow and Clyde",
          "NHS Highland",
          "NHS Lanarkshire",
          "NHS Lothian",
          "NHS Orkney",
          "NHS Shetland",
          "NHS Tayside",
          "NHS Western Isles",
          "",
          "",
          "",
          "",
          "",
          "",
          "",
          "",
          "",
          "",
          "",
          "",
          "",
          ""
         ],
         "type": "sunburst",
         "values": [
          762,
          220,
          316,
          702,
          559,
          1014,
          2365,
          666,
          1268,
          1540,
          53,
          54,
          809,
          80,
          775,
          223,
          321,
          713,
          569,
          1028,
          2398,
          692,
          1286,
          1570,
          55,
          55,
          820,
          81,
          807,
          235,
          334,
          749,
          598,
          1072,
          2504,
          726,
          1347,
          1639,
          57,
          57,
          857,
          85,
          2344,
          678,
          971,
          2164,
          1726,
          3114,
          7267,
          2084,
          3901,
          4749,
          165,
          166,
          2486,
          246
         ]
        }
       ],
       "layout": {
        "coloraxis": {
         "colorbar": {
          "title": {
           "text": "budget_count"
          }
         },
         "colorscale": [
          [
           0,
           "#0d0887"
          ],
          [
           0.1111111111111111,
           "#46039f"
          ],
          [
           0.2222222222222222,
           "#7201a8"
          ],
          [
           0.3333333333333333,
           "#9c179e"
          ],
          [
           0.4444444444444444,
           "#bd3786"
          ],
          [
           0.5555555555555556,
           "#d8576b"
          ],
          [
           0.6666666666666666,
           "#ed7953"
          ],
          [
           0.7777777777777778,
           "#fb9f3a"
          ],
          [
           0.8888888888888888,
           "#fdca26"
          ],
          [
           1,
           "#f0f921"
          ]
         ]
        },
        "legend": {
         "tracegroupgap": 0
        },
        "template": {
         "data": {
          "bar": [
           {
            "error_x": {
             "color": "#2a3f5f"
            },
            "error_y": {
             "color": "#2a3f5f"
            },
            "marker": {
             "line": {
              "color": "#E5ECF6",
              "width": 0.5
             },
             "pattern": {
              "fillmode": "overlay",
              "size": 10,
              "solidity": 0.2
             }
            },
            "type": "bar"
           }
          ],
          "barpolar": [
           {
            "marker": {
             "line": {
              "color": "#E5ECF6",
              "width": 0.5
             },
             "pattern": {
              "fillmode": "overlay",
              "size": 10,
              "solidity": 0.2
             }
            },
            "type": "barpolar"
           }
          ],
          "carpet": [
           {
            "aaxis": {
             "endlinecolor": "#2a3f5f",
             "gridcolor": "white",
             "linecolor": "white",
             "minorgridcolor": "white",
             "startlinecolor": "#2a3f5f"
            },
            "baxis": {
             "endlinecolor": "#2a3f5f",
             "gridcolor": "white",
             "linecolor": "white",
             "minorgridcolor": "white",
             "startlinecolor": "#2a3f5f"
            },
            "type": "carpet"
           }
          ],
          "choropleth": [
           {
            "colorbar": {
             "outlinewidth": 0,
             "ticks": ""
            },
            "type": "choropleth"
           }
          ],
          "contour": [
           {
            "colorbar": {
             "outlinewidth": 0,
             "ticks": ""
            },
            "colorscale": [
             [
              0,
              "#0d0887"
             ],
             [
              0.1111111111111111,
              "#46039f"
             ],
             [
              0.2222222222222222,
              "#7201a8"
             ],
             [
              0.3333333333333333,
              "#9c179e"
             ],
             [
              0.4444444444444444,
              "#bd3786"
             ],
             [
              0.5555555555555556,
              "#d8576b"
             ],
             [
              0.6666666666666666,
              "#ed7953"
             ],
             [
              0.7777777777777778,
              "#fb9f3a"
             ],
             [
              0.8888888888888888,
              "#fdca26"
             ],
             [
              1,
              "#f0f921"
             ]
            ],
            "type": "contour"
           }
          ],
          "contourcarpet": [
           {
            "colorbar": {
             "outlinewidth": 0,
             "ticks": ""
            },
            "type": "contourcarpet"
           }
          ],
          "heatmap": [
           {
            "colorbar": {
             "outlinewidth": 0,
             "ticks": ""
            },
            "colorscale": [
             [
              0,
              "#0d0887"
             ],
             [
              0.1111111111111111,
              "#46039f"
             ],
             [
              0.2222222222222222,
              "#7201a8"
             ],
             [
              0.3333333333333333,
              "#9c179e"
             ],
             [
              0.4444444444444444,
              "#bd3786"
             ],
             [
              0.5555555555555556,
              "#d8576b"
             ],
             [
              0.6666666666666666,
              "#ed7953"
             ],
             [
              0.7777777777777778,
              "#fb9f3a"
             ],
             [
              0.8888888888888888,
              "#fdca26"
             ],
             [
              1,
              "#f0f921"
             ]
            ],
            "type": "heatmap"
           }
          ],
          "heatmapgl": [
           {
            "colorbar": {
             "outlinewidth": 0,
             "ticks": ""
            },
            "colorscale": [
             [
              0,
              "#0d0887"
             ],
             [
              0.1111111111111111,
              "#46039f"
             ],
             [
              0.2222222222222222,
              "#7201a8"
             ],
             [
              0.3333333333333333,
              "#9c179e"
             ],
             [
              0.4444444444444444,
              "#bd3786"
             ],
             [
              0.5555555555555556,
              "#d8576b"
             ],
             [
              0.6666666666666666,
              "#ed7953"
             ],
             [
              0.7777777777777778,
              "#fb9f3a"
             ],
             [
              0.8888888888888888,
              "#fdca26"
             ],
             [
              1,
              "#f0f921"
             ]
            ],
            "type": "heatmapgl"
           }
          ],
          "histogram": [
           {
            "marker": {
             "pattern": {
              "fillmode": "overlay",
              "size": 10,
              "solidity": 0.2
             }
            },
            "type": "histogram"
           }
          ],
          "histogram2d": [
           {
            "colorbar": {
             "outlinewidth": 0,
             "ticks": ""
            },
            "colorscale": [
             [
              0,
              "#0d0887"
             ],
             [
              0.1111111111111111,
              "#46039f"
             ],
             [
              0.2222222222222222,
              "#7201a8"
             ],
             [
              0.3333333333333333,
              "#9c179e"
             ],
             [
              0.4444444444444444,
              "#bd3786"
             ],
             [
              0.5555555555555556,
              "#d8576b"
             ],
             [
              0.6666666666666666,
              "#ed7953"
             ],
             [
              0.7777777777777778,
              "#fb9f3a"
             ],
             [
              0.8888888888888888,
              "#fdca26"
             ],
             [
              1,
              "#f0f921"
             ]
            ],
            "type": "histogram2d"
           }
          ],
          "histogram2dcontour": [
           {
            "colorbar": {
             "outlinewidth": 0,
             "ticks": ""
            },
            "colorscale": [
             [
              0,
              "#0d0887"
             ],
             [
              0.1111111111111111,
              "#46039f"
             ],
             [
              0.2222222222222222,
              "#7201a8"
             ],
             [
              0.3333333333333333,
              "#9c179e"
             ],
             [
              0.4444444444444444,
              "#bd3786"
             ],
             [
              0.5555555555555556,
              "#d8576b"
             ],
             [
              0.6666666666666666,
              "#ed7953"
             ],
             [
              0.7777777777777778,
              "#fb9f3a"
             ],
             [
              0.8888888888888888,
              "#fdca26"
             ],
             [
              1,
              "#f0f921"
             ]
            ],
            "type": "histogram2dcontour"
           }
          ],
          "mesh3d": [
           {
            "colorbar": {
             "outlinewidth": 0,
             "ticks": ""
            },
            "type": "mesh3d"
           }
          ],
          "parcoords": [
           {
            "line": {
             "colorbar": {
              "outlinewidth": 0,
              "ticks": ""
             }
            },
            "type": "parcoords"
           }
          ],
          "pie": [
           {
            "automargin": true,
            "type": "pie"
           }
          ],
          "scatter": [
           {
            "fillpattern": {
             "fillmode": "overlay",
             "size": 10,
             "solidity": 0.2
            },
            "type": "scatter"
           }
          ],
          "scatter3d": [
           {
            "line": {
             "colorbar": {
              "outlinewidth": 0,
              "ticks": ""
             }
            },
            "marker": {
             "colorbar": {
              "outlinewidth": 0,
              "ticks": ""
             }
            },
            "type": "scatter3d"
           }
          ],
          "scattercarpet": [
           {
            "marker": {
             "colorbar": {
              "outlinewidth": 0,
              "ticks": ""
             }
            },
            "type": "scattercarpet"
           }
          ],
          "scattergeo": [
           {
            "marker": {
             "colorbar": {
              "outlinewidth": 0,
              "ticks": ""
             }
            },
            "type": "scattergeo"
           }
          ],
          "scattergl": [
           {
            "marker": {
             "colorbar": {
              "outlinewidth": 0,
              "ticks": ""
             }
            },
            "type": "scattergl"
           }
          ],
          "scattermapbox": [
           {
            "marker": {
             "colorbar": {
              "outlinewidth": 0,
              "ticks": ""
             }
            },
            "type": "scattermapbox"
           }
          ],
          "scatterpolar": [
           {
            "marker": {
             "colorbar": {
              "outlinewidth": 0,
              "ticks": ""
             }
            },
            "type": "scatterpolar"
           }
          ],
          "scatterpolargl": [
           {
            "marker": {
             "colorbar": {
              "outlinewidth": 0,
              "ticks": ""
             }
            },
            "type": "scatterpolargl"
           }
          ],
          "scatterternary": [
           {
            "marker": {
             "colorbar": {
              "outlinewidth": 0,
              "ticks": ""
             }
            },
            "type": "scatterternary"
           }
          ],
          "surface": [
           {
            "colorbar": {
             "outlinewidth": 0,
             "ticks": ""
            },
            "colorscale": [
             [
              0,
              "#0d0887"
             ],
             [
              0.1111111111111111,
              "#46039f"
             ],
             [
              0.2222222222222222,
              "#7201a8"
             ],
             [
              0.3333333333333333,
              "#9c179e"
             ],
             [
              0.4444444444444444,
              "#bd3786"
             ],
             [
              0.5555555555555556,
              "#d8576b"
             ],
             [
              0.6666666666666666,
              "#ed7953"
             ],
             [
              0.7777777777777778,
              "#fb9f3a"
             ],
             [
              0.8888888888888888,
              "#fdca26"
             ],
             [
              1,
              "#f0f921"
             ]
            ],
            "type": "surface"
           }
          ],
          "table": [
           {
            "cells": {
             "fill": {
              "color": "#EBF0F8"
             },
             "line": {
              "color": "white"
             }
            },
            "header": {
             "fill": {
              "color": "#C8D4E3"
             },
             "line": {
              "color": "white"
             }
            },
            "type": "table"
           }
          ]
         },
         "layout": {
          "annotationdefaults": {
           "arrowcolor": "#2a3f5f",
           "arrowhead": 0,
           "arrowwidth": 1
          },
          "autotypenumbers": "strict",
          "coloraxis": {
           "colorbar": {
            "outlinewidth": 0,
            "ticks": ""
           }
          },
          "colorscale": {
           "diverging": [
            [
             0,
             "#8e0152"
            ],
            [
             0.1,
             "#c51b7d"
            ],
            [
             0.2,
             "#de77ae"
            ],
            [
             0.3,
             "#f1b6da"
            ],
            [
             0.4,
             "#fde0ef"
            ],
            [
             0.5,
             "#f7f7f7"
            ],
            [
             0.6,
             "#e6f5d0"
            ],
            [
             0.7,
             "#b8e186"
            ],
            [
             0.8,
             "#7fbc41"
            ],
            [
             0.9,
             "#4d9221"
            ],
            [
             1,
             "#276419"
            ]
           ],
           "sequential": [
            [
             0,
             "#0d0887"
            ],
            [
             0.1111111111111111,
             "#46039f"
            ],
            [
             0.2222222222222222,
             "#7201a8"
            ],
            [
             0.3333333333333333,
             "#9c179e"
            ],
            [
             0.4444444444444444,
             "#bd3786"
            ],
            [
             0.5555555555555556,
             "#d8576b"
            ],
            [
             0.6666666666666666,
             "#ed7953"
            ],
            [
             0.7777777777777778,
             "#fb9f3a"
            ],
            [
             0.8888888888888888,
             "#fdca26"
            ],
            [
             1,
             "#f0f921"
            ]
           ],
           "sequentialminus": [
            [
             0,
             "#0d0887"
            ],
            [
             0.1111111111111111,
             "#46039f"
            ],
            [
             0.2222222222222222,
             "#7201a8"
            ],
            [
             0.3333333333333333,
             "#9c179e"
            ],
            [
             0.4444444444444444,
             "#bd3786"
            ],
            [
             0.5555555555555556,
             "#d8576b"
            ],
            [
             0.6666666666666666,
             "#ed7953"
            ],
            [
             0.7777777777777778,
             "#fb9f3a"
            ],
            [
             0.8888888888888888,
             "#fdca26"
            ],
            [
             1,
             "#f0f921"
            ]
           ]
          },
          "colorway": [
           "#636efa",
           "#EF553B",
           "#00cc96",
           "#ab63fa",
           "#FFA15A",
           "#19d3f3",
           "#FF6692",
           "#B6E880",
           "#FF97FF",
           "#FECB52"
          ],
          "font": {
           "color": "#2a3f5f"
          },
          "geo": {
           "bgcolor": "white",
           "lakecolor": "white",
           "landcolor": "#E5ECF6",
           "showlakes": true,
           "showland": true,
           "subunitcolor": "white"
          },
          "hoverlabel": {
           "align": "left"
          },
          "hovermode": "closest",
          "mapbox": {
           "style": "light"
          },
          "paper_bgcolor": "white",
          "plot_bgcolor": "#E5ECF6",
          "polar": {
           "angularaxis": {
            "gridcolor": "white",
            "linecolor": "white",
            "ticks": ""
           },
           "bgcolor": "#E5ECF6",
           "radialaxis": {
            "gridcolor": "white",
            "linecolor": "white",
            "ticks": ""
           }
          },
          "scene": {
           "xaxis": {
            "backgroundcolor": "#E5ECF6",
            "gridcolor": "white",
            "gridwidth": 2,
            "linecolor": "white",
            "showbackground": true,
            "ticks": "",
            "zerolinecolor": "white"
           },
           "yaxis": {
            "backgroundcolor": "#E5ECF6",
            "gridcolor": "white",
            "gridwidth": 2,
            "linecolor": "white",
            "showbackground": true,
            "ticks": "",
            "zerolinecolor": "white"
           },
           "zaxis": {
            "backgroundcolor": "#E5ECF6",
            "gridcolor": "white",
            "gridwidth": 2,
            "linecolor": "white",
            "showbackground": true,
            "ticks": "",
            "zerolinecolor": "white"
           }
          },
          "shapedefaults": {
           "line": {
            "color": "#2a3f5f"
           }
          },
          "ternary": {
           "aaxis": {
            "gridcolor": "white",
            "linecolor": "white",
            "ticks": ""
           },
           "baxis": {
            "gridcolor": "white",
            "linecolor": "white",
            "ticks": ""
           },
           "bgcolor": "#E5ECF6",
           "caxis": {
            "gridcolor": "white",
            "linecolor": "white",
            "ticks": ""
           }
          },
          "title": {
           "x": 0.05
          },
          "xaxis": {
           "automargin": true,
           "gridcolor": "white",
           "linecolor": "white",
           "ticks": "",
           "title": {
            "standoff": 15
           },
           "zerolinecolor": "white",
           "zerolinewidth": 2
          },
          "yaxis": {
           "automargin": true,
           "gridcolor": "white",
           "linecolor": "white",
           "ticks": "",
           "title": {
            "standoff": 15
           },
           "zerolinecolor": "white",
           "zerolinewidth": 2
          }
         }
        },
        "title": {
         "text": "SunBurst Chart of Accumulated Budgets over years for different NHS zones"
        }
       }
      },
      "text/html": [
       "<div>                            <div id=\"e50c4ac0-d27a-4117-b05d-172c8084ea08\" class=\"plotly-graph-div\" style=\"height:525px; width:100%;\"></div>            <script type=\"text/javascript\">                require([\"plotly\"], function(Plotly) {                    window.PLOTLYENV=window.PLOTLYENV || {};                                    if (document.getElementById(\"e50c4ac0-d27a-4117-b05d-172c8084ea08\")) {                    Plotly.newPlot(                        \"e50c4ac0-d27a-4117-b05d-172c8084ea08\",                        [{\"branchvalues\":\"total\",\"customdata\":[[762.0],[220.0],[316.0],[702.0],[559.0],[1014.0],[2365.0],[666.0],[1268.0],[1540.0],[53.0],[54.0],[809.0],[80.0],[775.0],[223.0],[321.0],[713.0],[569.0],[1028.0],[2398.0],[692.0],[1286.0],[1570.0],[55.0],[55.0],[820.0],[81.0],[807.0],[235.0],[334.0],[749.0],[598.0],[1072.0],[2504.0],[726.0],[1347.0],[1639.0],[57.0],[57.0],[857.0],[85.0],[781.7909556313994],[226.18584070796462],[323.8444902162719],[721.8918669131239],[575.8088064889919],[1038.5883108542068],[2423.7849181230217],[695.535508637236],[1301.2122532683927],[1584.085281111813],[55.04848484848485],[55.36144578313253],[829.1753821399839],[82.0569105691057]],\"domain\":{\"x\":[0.0,1.0],\"y\":[0.0,1.0]},\"hovertemplate\":\"labels=%{label}<br>budget_count_sum=%{value}<br>parent=%{parent}<br>id=%{id}<br>budget_count=%{color}<extra></extra>\",\"ids\":[\"NHS Ayrshire and Arran/2020\",\"NHS Borders/2020\",\"NHS Dumfries and Galloway/2020\",\"NHS Fife/2020\",\"NHS Forth Valley/2020\",\"NHS Grampian/2020\",\"NHS Greater Glasgow and Clyde/2020\",\"NHS Highland/2020\",\"NHS Lanarkshire/2020\",\"NHS Lothian/2020\",\"NHS Orkney/2020\",\"NHS Shetland/2020\",\"NHS Tayside/2020\",\"NHS Western Isles/2020\",\"NHS Ayrshire and Arran/2021\",\"NHS Borders/2021\",\"NHS Dumfries and Galloway/2021\",\"NHS Fife/2021\",\"NHS Forth Valley/2021\",\"NHS Grampian/2021\",\"NHS Greater Glasgow and Clyde/2021\",\"NHS Highland/2021\",\"NHS Lanarkshire/2021\",\"NHS Lothian/2021\",\"NHS Orkney/2021\",\"NHS Shetland/2021\",\"NHS Tayside/2021\",\"NHS Western Isles/2021\",\"NHS Ayrshire and Arran/2022\",\"NHS Borders/2022\",\"NHS Dumfries and Galloway/2022\",\"NHS Fife/2022\",\"NHS Forth Valley/2022\",\"NHS Grampian/2022\",\"NHS Greater Glasgow and Clyde/2022\",\"NHS Highland/2022\",\"NHS Lanarkshire/2022\",\"NHS Lothian/2022\",\"NHS Orkney/2022\",\"NHS Shetland/2022\",\"NHS Tayside/2022\",\"NHS Western Isles/2022\",\"NHS Ayrshire and Arran\",\"NHS Borders\",\"NHS Dumfries and Galloway\",\"NHS Fife\",\"NHS Forth Valley\",\"NHS Grampian\",\"NHS Greater Glasgow and Clyde\",\"NHS Highland\",\"NHS Lanarkshire\",\"NHS Lothian\",\"NHS Orkney\",\"NHS Shetland\",\"NHS Tayside\",\"NHS Western Isles\"],\"labels\":[\"2020\",\"2020\",\"2020\",\"2020\",\"2020\",\"2020\",\"2020\",\"2020\",\"2020\",\"2020\",\"2020\",\"2020\",\"2020\",\"2020\",\"2021\",\"2021\",\"2021\",\"2021\",\"2021\",\"2021\",\"2021\",\"2021\",\"2021\",\"2021\",\"2021\",\"2021\",\"2021\",\"2021\",\"2022\",\"2022\",\"2022\",\"2022\",\"2022\",\"2022\",\"2022\",\"2022\",\"2022\",\"2022\",\"2022\",\"2022\",\"2022\",\"2022\",\"NHS Ayrshire and Arran\",\"NHS Borders\",\"NHS Dumfries and Galloway\",\"NHS Fife\",\"NHS Forth Valley\",\"NHS Grampian\",\"NHS Greater Glasgow and Clyde\",\"NHS Highland\",\"NHS Lanarkshire\",\"NHS Lothian\",\"NHS Orkney\",\"NHS Shetland\",\"NHS Tayside\",\"NHS Western Isles\"],\"marker\":{\"coloraxis\":\"coloraxis\",\"colors\":[762.0,220.0,316.0,702.0,559.0,1014.0,2365.0,666.0,1268.0,1540.0,53.0,54.0,809.0,80.0,775.0,223.0,321.0,713.0,569.0,1028.0,2398.0,692.0,1286.0,1570.0,55.0,55.0,820.0,81.0,807.0,235.0,334.0,749.0,598.0,1072.0,2504.0,726.0,1347.0,1639.0,57.0,57.0,857.0,85.0,781.7909556313994,226.18584070796462,323.8444902162719,721.8918669131239,575.8088064889919,1038.5883108542068,2423.7849181230217,695.535508637236,1301.2122532683927,1584.085281111813,55.04848484848485,55.36144578313253,829.1753821399839,82.0569105691057]},\"name\":\"\",\"parents\":[\"NHS Ayrshire and Arran\",\"NHS Borders\",\"NHS Dumfries and Galloway\",\"NHS Fife\",\"NHS Forth Valley\",\"NHS Grampian\",\"NHS Greater Glasgow and Clyde\",\"NHS Highland\",\"NHS Lanarkshire\",\"NHS Lothian\",\"NHS Orkney\",\"NHS Shetland\",\"NHS Tayside\",\"NHS Western Isles\",\"NHS Ayrshire and Arran\",\"NHS Borders\",\"NHS Dumfries and Galloway\",\"NHS Fife\",\"NHS Forth Valley\",\"NHS Grampian\",\"NHS Greater Glasgow and Clyde\",\"NHS Highland\",\"NHS Lanarkshire\",\"NHS Lothian\",\"NHS Orkney\",\"NHS Shetland\",\"NHS Tayside\",\"NHS Western Isles\",\"NHS Ayrshire and Arran\",\"NHS Borders\",\"NHS Dumfries and Galloway\",\"NHS Fife\",\"NHS Forth Valley\",\"NHS Grampian\",\"NHS Greater Glasgow and Clyde\",\"NHS Highland\",\"NHS Lanarkshire\",\"NHS Lothian\",\"NHS Orkney\",\"NHS Shetland\",\"NHS Tayside\",\"NHS Western Isles\",\"\",\"\",\"\",\"\",\"\",\"\",\"\",\"\",\"\",\"\",\"\",\"\",\"\",\"\"],\"values\":[762,220,316,702,559,1014,2365,666,1268,1540,53,54,809,80,775,223,321,713,569,1028,2398,692,1286,1570,55,55,820,81,807,235,334,749,598,1072,2504,726,1347,1639,57,57,857,85,2344,678,971,2164,1726,3114,7267,2084,3901,4749,165,166,2486,246],\"type\":\"sunburst\"}],                        {\"template\":{\"data\":{\"histogram2dcontour\":[{\"type\":\"histogram2dcontour\",\"colorbar\":{\"outlinewidth\":0,\"ticks\":\"\"},\"colorscale\":[[0.0,\"#0d0887\"],[0.1111111111111111,\"#46039f\"],[0.2222222222222222,\"#7201a8\"],[0.3333333333333333,\"#9c179e\"],[0.4444444444444444,\"#bd3786\"],[0.5555555555555556,\"#d8576b\"],[0.6666666666666666,\"#ed7953\"],[0.7777777777777778,\"#fb9f3a\"],[0.8888888888888888,\"#fdca26\"],[1.0,\"#f0f921\"]]}],\"choropleth\":[{\"type\":\"choropleth\",\"colorbar\":{\"outlinewidth\":0,\"ticks\":\"\"}}],\"histogram2d\":[{\"type\":\"histogram2d\",\"colorbar\":{\"outlinewidth\":0,\"ticks\":\"\"},\"colorscale\":[[0.0,\"#0d0887\"],[0.1111111111111111,\"#46039f\"],[0.2222222222222222,\"#7201a8\"],[0.3333333333333333,\"#9c179e\"],[0.4444444444444444,\"#bd3786\"],[0.5555555555555556,\"#d8576b\"],[0.6666666666666666,\"#ed7953\"],[0.7777777777777778,\"#fb9f3a\"],[0.8888888888888888,\"#fdca26\"],[1.0,\"#f0f921\"]]}],\"heatmap\":[{\"type\":\"heatmap\",\"colorbar\":{\"outlinewidth\":0,\"ticks\":\"\"},\"colorscale\":[[0.0,\"#0d0887\"],[0.1111111111111111,\"#46039f\"],[0.2222222222222222,\"#7201a8\"],[0.3333333333333333,\"#9c179e\"],[0.4444444444444444,\"#bd3786\"],[0.5555555555555556,\"#d8576b\"],[0.6666666666666666,\"#ed7953\"],[0.7777777777777778,\"#fb9f3a\"],[0.8888888888888888,\"#fdca26\"],[1.0,\"#f0f921\"]]}],\"heatmapgl\":[{\"type\":\"heatmapgl\",\"colorbar\":{\"outlinewidth\":0,\"ticks\":\"\"},\"colorscale\":[[0.0,\"#0d0887\"],[0.1111111111111111,\"#46039f\"],[0.2222222222222222,\"#7201a8\"],[0.3333333333333333,\"#9c179e\"],[0.4444444444444444,\"#bd3786\"],[0.5555555555555556,\"#d8576b\"],[0.6666666666666666,\"#ed7953\"],[0.7777777777777778,\"#fb9f3a\"],[0.8888888888888888,\"#fdca26\"],[1.0,\"#f0f921\"]]}],\"contourcarpet\":[{\"type\":\"contourcarpet\",\"colorbar\":{\"outlinewidth\":0,\"ticks\":\"\"}}],\"contour\":[{\"type\":\"contour\",\"colorbar\":{\"outlinewidth\":0,\"ticks\":\"\"},\"colorscale\":[[0.0,\"#0d0887\"],[0.1111111111111111,\"#46039f\"],[0.2222222222222222,\"#7201a8\"],[0.3333333333333333,\"#9c179e\"],[0.4444444444444444,\"#bd3786\"],[0.5555555555555556,\"#d8576b\"],[0.6666666666666666,\"#ed7953\"],[0.7777777777777778,\"#fb9f3a\"],[0.8888888888888888,\"#fdca26\"],[1.0,\"#f0f921\"]]}],\"surface\":[{\"type\":\"surface\",\"colorbar\":{\"outlinewidth\":0,\"ticks\":\"\"},\"colorscale\":[[0.0,\"#0d0887\"],[0.1111111111111111,\"#46039f\"],[0.2222222222222222,\"#7201a8\"],[0.3333333333333333,\"#9c179e\"],[0.4444444444444444,\"#bd3786\"],[0.5555555555555556,\"#d8576b\"],[0.6666666666666666,\"#ed7953\"],[0.7777777777777778,\"#fb9f3a\"],[0.8888888888888888,\"#fdca26\"],[1.0,\"#f0f921\"]]}],\"mesh3d\":[{\"type\":\"mesh3d\",\"colorbar\":{\"outlinewidth\":0,\"ticks\":\"\"}}],\"scatter\":[{\"fillpattern\":{\"fillmode\":\"overlay\",\"size\":10,\"solidity\":0.2},\"type\":\"scatter\"}],\"parcoords\":[{\"type\":\"parcoords\",\"line\":{\"colorbar\":{\"outlinewidth\":0,\"ticks\":\"\"}}}],\"scatterpolargl\":[{\"type\":\"scatterpolargl\",\"marker\":{\"colorbar\":{\"outlinewidth\":0,\"ticks\":\"\"}}}],\"bar\":[{\"error_x\":{\"color\":\"#2a3f5f\"},\"error_y\":{\"color\":\"#2a3f5f\"},\"marker\":{\"line\":{\"color\":\"#E5ECF6\",\"width\":0.5},\"pattern\":{\"fillmode\":\"overlay\",\"size\":10,\"solidity\":0.2}},\"type\":\"bar\"}],\"scattergeo\":[{\"type\":\"scattergeo\",\"marker\":{\"colorbar\":{\"outlinewidth\":0,\"ticks\":\"\"}}}],\"scatterpolar\":[{\"type\":\"scatterpolar\",\"marker\":{\"colorbar\":{\"outlinewidth\":0,\"ticks\":\"\"}}}],\"histogram\":[{\"marker\":{\"pattern\":{\"fillmode\":\"overlay\",\"size\":10,\"solidity\":0.2}},\"type\":\"histogram\"}],\"scattergl\":[{\"type\":\"scattergl\",\"marker\":{\"colorbar\":{\"outlinewidth\":0,\"ticks\":\"\"}}}],\"scatter3d\":[{\"type\":\"scatter3d\",\"line\":{\"colorbar\":{\"outlinewidth\":0,\"ticks\":\"\"}},\"marker\":{\"colorbar\":{\"outlinewidth\":0,\"ticks\":\"\"}}}],\"scattermapbox\":[{\"type\":\"scattermapbox\",\"marker\":{\"colorbar\":{\"outlinewidth\":0,\"ticks\":\"\"}}}],\"scatterternary\":[{\"type\":\"scatterternary\",\"marker\":{\"colorbar\":{\"outlinewidth\":0,\"ticks\":\"\"}}}],\"scattercarpet\":[{\"type\":\"scattercarpet\",\"marker\":{\"colorbar\":{\"outlinewidth\":0,\"ticks\":\"\"}}}],\"carpet\":[{\"aaxis\":{\"endlinecolor\":\"#2a3f5f\",\"gridcolor\":\"white\",\"linecolor\":\"white\",\"minorgridcolor\":\"white\",\"startlinecolor\":\"#2a3f5f\"},\"baxis\":{\"endlinecolor\":\"#2a3f5f\",\"gridcolor\":\"white\",\"linecolor\":\"white\",\"minorgridcolor\":\"white\",\"startlinecolor\":\"#2a3f5f\"},\"type\":\"carpet\"}],\"table\":[{\"cells\":{\"fill\":{\"color\":\"#EBF0F8\"},\"line\":{\"color\":\"white\"}},\"header\":{\"fill\":{\"color\":\"#C8D4E3\"},\"line\":{\"color\":\"white\"}},\"type\":\"table\"}],\"barpolar\":[{\"marker\":{\"line\":{\"color\":\"#E5ECF6\",\"width\":0.5},\"pattern\":{\"fillmode\":\"overlay\",\"size\":10,\"solidity\":0.2}},\"type\":\"barpolar\"}],\"pie\":[{\"automargin\":true,\"type\":\"pie\"}]},\"layout\":{\"autotypenumbers\":\"strict\",\"colorway\":[\"#636efa\",\"#EF553B\",\"#00cc96\",\"#ab63fa\",\"#FFA15A\",\"#19d3f3\",\"#FF6692\",\"#B6E880\",\"#FF97FF\",\"#FECB52\"],\"font\":{\"color\":\"#2a3f5f\"},\"hovermode\":\"closest\",\"hoverlabel\":{\"align\":\"left\"},\"paper_bgcolor\":\"white\",\"plot_bgcolor\":\"#E5ECF6\",\"polar\":{\"bgcolor\":\"#E5ECF6\",\"angularaxis\":{\"gridcolor\":\"white\",\"linecolor\":\"white\",\"ticks\":\"\"},\"radialaxis\":{\"gridcolor\":\"white\",\"linecolor\":\"white\",\"ticks\":\"\"}},\"ternary\":{\"bgcolor\":\"#E5ECF6\",\"aaxis\":{\"gridcolor\":\"white\",\"linecolor\":\"white\",\"ticks\":\"\"},\"baxis\":{\"gridcolor\":\"white\",\"linecolor\":\"white\",\"ticks\":\"\"},\"caxis\":{\"gridcolor\":\"white\",\"linecolor\":\"white\",\"ticks\":\"\"}},\"coloraxis\":{\"colorbar\":{\"outlinewidth\":0,\"ticks\":\"\"}},\"colorscale\":{\"sequential\":[[0.0,\"#0d0887\"],[0.1111111111111111,\"#46039f\"],[0.2222222222222222,\"#7201a8\"],[0.3333333333333333,\"#9c179e\"],[0.4444444444444444,\"#bd3786\"],[0.5555555555555556,\"#d8576b\"],[0.6666666666666666,\"#ed7953\"],[0.7777777777777778,\"#fb9f3a\"],[0.8888888888888888,\"#fdca26\"],[1.0,\"#f0f921\"]],\"sequentialminus\":[[0.0,\"#0d0887\"],[0.1111111111111111,\"#46039f\"],[0.2222222222222222,\"#7201a8\"],[0.3333333333333333,\"#9c179e\"],[0.4444444444444444,\"#bd3786\"],[0.5555555555555556,\"#d8576b\"],[0.6666666666666666,\"#ed7953\"],[0.7777777777777778,\"#fb9f3a\"],[0.8888888888888888,\"#fdca26\"],[1.0,\"#f0f921\"]],\"diverging\":[[0,\"#8e0152\"],[0.1,\"#c51b7d\"],[0.2,\"#de77ae\"],[0.3,\"#f1b6da\"],[0.4,\"#fde0ef\"],[0.5,\"#f7f7f7\"],[0.6,\"#e6f5d0\"],[0.7,\"#b8e186\"],[0.8,\"#7fbc41\"],[0.9,\"#4d9221\"],[1,\"#276419\"]]},\"xaxis\":{\"gridcolor\":\"white\",\"linecolor\":\"white\",\"ticks\":\"\",\"title\":{\"standoff\":15},\"zerolinecolor\":\"white\",\"automargin\":true,\"zerolinewidth\":2},\"yaxis\":{\"gridcolor\":\"white\",\"linecolor\":\"white\",\"ticks\":\"\",\"title\":{\"standoff\":15},\"zerolinecolor\":\"white\",\"automargin\":true,\"zerolinewidth\":2},\"scene\":{\"xaxis\":{\"backgroundcolor\":\"#E5ECF6\",\"gridcolor\":\"white\",\"linecolor\":\"white\",\"showbackground\":true,\"ticks\":\"\",\"zerolinecolor\":\"white\",\"gridwidth\":2},\"yaxis\":{\"backgroundcolor\":\"#E5ECF6\",\"gridcolor\":\"white\",\"linecolor\":\"white\",\"showbackground\":true,\"ticks\":\"\",\"zerolinecolor\":\"white\",\"gridwidth\":2},\"zaxis\":{\"backgroundcolor\":\"#E5ECF6\",\"gridcolor\":\"white\",\"linecolor\":\"white\",\"showbackground\":true,\"ticks\":\"\",\"zerolinecolor\":\"white\",\"gridwidth\":2}},\"shapedefaults\":{\"line\":{\"color\":\"#2a3f5f\"}},\"annotationdefaults\":{\"arrowcolor\":\"#2a3f5f\",\"arrowhead\":0,\"arrowwidth\":1},\"geo\":{\"bgcolor\":\"white\",\"landcolor\":\"#E5ECF6\",\"subunitcolor\":\"white\",\"showland\":true,\"showlakes\":true,\"lakecolor\":\"white\"},\"title\":{\"x\":0.05},\"mapbox\":{\"style\":\"light\"}}},\"coloraxis\":{\"colorbar\":{\"title\":{\"text\":\"budget_count\"}},\"colorscale\":[[0.0,\"#0d0887\"],[0.1111111111111111,\"#46039f\"],[0.2222222222222222,\"#7201a8\"],[0.3333333333333333,\"#9c179e\"],[0.4444444444444444,\"#bd3786\"],[0.5555555555555556,\"#d8576b\"],[0.6666666666666666,\"#ed7953\"],[0.7777777777777778,\"#fb9f3a\"],[0.8888888888888888,\"#fdca26\"],[1.0,\"#f0f921\"]]},\"legend\":{\"tracegroupgap\":0},\"title\":{\"text\":\"SunBurst Chart of Accumulated Budgets over years for different NHS zones\"}},                        {\"responsive\": true}                    ).then(function(){\n",
       "                            \n",
       "var gd = document.getElementById('e50c4ac0-d27a-4117-b05d-172c8084ea08');\n",
       "var x = new MutationObserver(function (mutations, observer) {{\n",
       "        var display = window.getComputedStyle(gd).display;\n",
       "        if (!display || display === 'none') {{\n",
       "            console.log([gd, 'removed!']);\n",
       "            Plotly.purge(gd);\n",
       "            observer.disconnect();\n",
       "        }}\n",
       "}});\n",
       "\n",
       "// Listen for the removal of the full notebook cells\n",
       "var notebookContainer = gd.closest('#notebook-container');\n",
       "if (notebookContainer) {{\n",
       "    x.observe(notebookContainer, {childList: true});\n",
       "}}\n",
       "\n",
       "// Listen for the clearing of the current output cell\n",
       "var outputEl = gd.closest('.output');\n",
       "if (outputEl) {{\n",
       "    x.observe(outputEl, {childList: true});\n",
       "}}\n",
       "\n",
       "                        })                };                });            </script>        </div>"
      ]
     },
     "metadata": {},
     "output_type": "display_data"
    }
   ],
   "source": [
    "data_sunburst = dict(\n",
    "    budget_count = budget_count,\n",
    "    regions = list(i for i in regions for _ in range(3)) ,\n",
    "    years = year_mapping\n",
    ")\n",
    "fig = px.sunburst(data_sunburst,path= ['regions', 'years'], values = 'budget_count',color = 'budget_count', title = \"SunBurst Chart of Accumulated Budgets over years for different NHS zones\")\n",
    "fig.show()"
   ]
  },
  {
   "cell_type": "markdown",
   "id": "c04b6d27",
   "metadata": {},
   "source": [
    "Upnext, we wish to represent the staff per km2 area for different zones by plotting a density graph on to a map embedding. The relevant geographical data are obtained by geocoding the names of the NHS zones. A third party API (Geoapify) is used for the same. This module accomplishes the geocoding and returns a list with latitude and longitude values."
   ]
  },
  {
   "cell_type": "code",
   "execution_count": null,
   "id": "3e35ceeb",
   "metadata": {},
   "outputs": [],
   "source": []
  },
  {
   "cell_type": "code",
   "execution_count": null,
   "id": "8ac0428f",
   "metadata": {
    "scrolled": true
   },
   "outputs": [],
   "source": []
  },
  {
   "cell_type": "markdown",
   "id": "cd55ad7d",
   "metadata": {},
   "source": [
    "Now for the covid days dataset we create a fucntion where we want to plot the time series graph of each of the NHS centers. Here we plot four graphs for each center- one for the number of new positive cases, number of new deaths, number of first infections and lastly number of reinfections"
   ]
  },
  {
   "cell_type": "code",
   "execution_count": 31,
   "id": "b2b8a5f8",
   "metadata": {},
   "outputs": [],
   "source": [
    "from datetime import datetime\n",
    "from plotly.subplots import make_subplots\n",
    "import plotly.graph_objects as go\n",
    "\n",
    "def plot_time_series(input_dictionary, name_nhs_center,budget_count,regions,year_mapping):\n",
    "    number_of_new_positive = []\n",
    "    number_of_new_deaths = []\n",
    "    number_of_first_infections = []\n",
    "    number_of_reinfections = []\n",
    "    dates = []\n",
    "\n",
    "    for part_dictionary in input_dictionary:\n",
    "        if part_dictionary['locations'][name_nhs_center] == {}:\n",
    "            number_of_new_positive.append(0)\n",
    "            number_of_new_deaths.append(0)\n",
    "            number_of_first_infections.append(0)\n",
    "            number_of_reinfections.append(0)\n",
    "        else:\n",
    "            number_of_new_positive.append(part_dictionary['locations'][name_nhs_center]['new_positive'])\n",
    "            number_of_new_deaths.append(part_dictionary['locations'][name_nhs_center]['new_deaths'])\n",
    "            number_of_first_infections.append(part_dictionary['locations'][name_nhs_center]['first_infections'])\n",
    "            number_of_reinfections.append(part_dictionary['locations'][name_nhs_center]['reinfections'])\n",
    "        dates.append(datetime.strptime(str(part_dictionary['date']), \"%Y%m%d\"))\n",
    "    data_sunburst = dict(\n",
    "    budget_count = budget_count,\n",
    "    regions = list(i for i in regions for _ in range(3)) ,\n",
    "    years = year_mapping)\n",
    "#     sunburst_fig = go.sunburst(data_sunburst,path= ['regions', 'years'], values = 'budget_count',color = 'budget_count', title = \"SunBurst Chart of Accumulated Budgets over years for different NHS zones\")\n",
    "\n",
    "    fig = make_subplots(rows=5, cols=1, vertical_spacing=0.1)\n",
    "    fig.add_trace(go.Scatter(x=dates, y=number_of_new_positive, name=\"Number of New Positive Cases\"), row=1, col=1)\n",
    "    fig.add_trace(go.Scatter(x=dates, y=number_of_new_deaths, name=\"Number Of New Deaths\"), row=2, col=1)\n",
    "    fig.add_trace(go.Scatter(x=dates, y=number_of_first_infections, name=\"Number of First Infections Cases\"), row=3, col=1)\n",
    "    fig.add_trace(go.Scatter(x=dates, y=number_of_reinfections, name=\"Number of Reinfections\"), row=4, col=1)\n",
    "#     fig.add_trace(sunburst_fig.data[0],row=5,col=1)\n",
    "    \n",
    "    fig.update_yaxes(title_text=\"Number of Cases\", row=1, col=1)\n",
    "    fig.update_yaxes(title_text=\"Number of Cases\", row=2, col=1)\n",
    "    fig.update_yaxes(title_text=\"Number of Cases\", row=3, col=1)\n",
    "    fig.update_yaxes(title_text=\"Number of Cases\", row=4, col=1)\n",
    "    \n",
    "    fig.update_xaxes(title_text=\"Date\", row=1, col=1)\n",
    "    fig.update_xaxes(title_text=\"Date\", row=2, col=1)\n",
    "    fig.update_xaxes(title_text=\"Date\", row=3, col=1)\n",
    "    fig.update_xaxes(title_text=\"Date\", row=4, col=1)\n",
    "\n",
    "    fig.update_layout(height=800, width=1000, title_text=str(name_nhs_center) + \": Time series graphs\")\n",
    "    fig.show()"
   ]
  },
  {
   "cell_type": "markdown",
   "id": "d2651250",
   "metadata": {},
   "source": [
    "Below if a for loop which calls our plot time series fucntions and plots the graphs for different centers. Here we provide our covid days json as input with the name of the nhs center and thus create the graphs on a loop"
   ]
  },
  {
   "cell_type": "code",
   "execution_count": 32,
   "id": "acbb1039",
   "metadata": {},
   "outputs": [
    {
     "data": {
      "application/vnd.jupyter.widget-view+json": {
       "model_id": "f609239ae1fa412c8370fa595156d314",
       "version_major": 2,
       "version_minor": 0
      },
      "text/plain": [
       "interactive(children=(Dropdown(description='name_nhs_center', options=('NHS Ayrshire and Arran', 'NHS Borders'…"
      ]
     },
     "metadata": {},
     "output_type": "display_data"
    },
    {
     "data": {
      "text/plain": [
       "<function __main__.update_plot(name_nhs_center)>"
      ]
     },
     "execution_count": 32,
     "metadata": {},
     "output_type": "execute_result"
    }
   ],
   "source": [
    "def update_plot(name_nhs_center):\n",
    "    plot_time_series(covid_days,name_nhs_center,budget_count,regions,year_mapping)\n",
    "dropdown_values = list(covid_days[0]['locations'].keys())\n",
    "interact(update_plot,name_nhs_center=dropdown_values)"
   ]
  },
  {
   "cell_type": "code",
   "execution_count": 34,
   "id": "36bc8ff9",
   "metadata": {},
   "outputs": [
    {
     "data": {
      "text/plain": [
       "[{'geographic': {'area_km_2': 2924,\n",
       "   'areas_covered': 'East Ayrshire, North Ayrshire, South Ayrshire'},\n",
       "  'budget_millions': {'2020': 762, '2021': 775, '2022': 807},\n",
       "  'name': 'NHS Ayrshire and Arran',\n",
       "  'people': {'patients': 369670, 'staff': 9491}},\n",
       " {'geographic': {'area_km_2': 4732, 'areas_covered': 'Scottish Borders'},\n",
       "  'budget_millions': {'2020': 220, '2021': 223, '2022': 235},\n",
       "  'name': 'NHS Borders',\n",
       "  'people': {'patients': 115270, 'staff': 2627}},\n",
       " {'geographic': {'area_km_2': 6216, 'areas_covered': 'Dumfries and Galloway'},\n",
       "  'budget_millions': {'2020': 316, '2021': 321, '2022': 334},\n",
       "  'name': 'NHS Dumfries and Galloway',\n",
       "  'people': {'patients': 148790, 'staff': 3832}},\n",
       " {'geographic': {'area_km_2': 1235, 'areas_covered': 'Fife'},\n",
       "  'budget_millions': {'2020': 702, '2021': 713, '2022': 749},\n",
       "  'name': 'NHS Fife',\n",
       "  'people': {'patients': 371910, 'staff': 7683}},\n",
       " {'geographic': {'area_km_2': 2643,\n",
       "   'areas_covered': 'Clackmannanshire, Falkirk, Stirling'},\n",
       "  'budget_millions': {'2020': 559, '2021': 569, '2022': 598},\n",
       "  'name': 'NHS Forth Valley',\n",
       "  'people': {'patients': 306070, 'staff': 5419}},\n",
       " {'geographic': {'area_km_2': 8736,\n",
       "   'areas_covered': 'Aberdeenshire, City of Aberdeen, Moray'},\n",
       "  'budget_millions': {'2020': 1014, '2021': 1028, '2022': 1072},\n",
       "  'name': 'NHS Grampian',\n",
       "  'people': {'patients': 584550, 'staff': 12952}},\n",
       " {'geographic': {'area_km_2': 1106,\n",
       "   'areas_covered': 'City of Glasgow, East Dunbartonshire, East Renfrewshire, Inverclyde, Renfrewshire, West Dunbartonshire'},\n",
       "  'budget_millions': {'2020': 2365, '2021': 2398, '2022': 2504},\n",
       "  'name': 'NHS Greater Glasgow and Clyde',\n",
       "  'people': {'patients': 1174980, 'staff': 38000}},\n",
       " {'geographic': {'area_km_2': 32566,\n",
       "   'areas_covered': 'Highland, Argyll and Bute'},\n",
       "  'budget_millions': {'2020': 666, '2021': 692, '2022': 726},\n",
       "  'name': 'NHS Highland',\n",
       "  'people': {'patients': 321800, 'staff': 8564}},\n",
       " {'geographic': {'area_km_2': 4732,\n",
       "   'areas_covered': 'North Lanarkshire, South Lanarkshire'},\n",
       "  'budget_millions': {'2020': 1268, '2021': 1286, '2022': 1347},\n",
       "  'name': 'NHS Lanarkshire',\n",
       "  'people': {'patients': 659200, 'staff': 11641}},\n",
       " {'geographic': {'area_km_2': 1471,\n",
       "   'areas_covered': 'City of Edinburgh, East Lothian, Midlothian, West Lothian'},\n",
       "  'budget_millions': {'2020': 1540, '2021': 1570, '2022': 1639},\n",
       "  'name': 'NHS Lothian',\n",
       "  'people': {'patients': 897770, 'staff': 21921}},\n",
       " {'geographic': {'area_km_2': 989, 'areas_covered': 'Orkney Islands'},\n",
       "  'budget_millions': {'2020': 53, '2021': 55, '2022': 57},\n",
       "  'name': 'NHS Orkney',\n",
       "  'people': {'patients': 22190, 'staff': 565}},\n",
       " {'geographic': {'area_km_2': 1467, 'areas_covered': 'Shetland Islands'},\n",
       "  'budget_millions': {'2020': 54, '2021': 55, '2022': 57},\n",
       "  'name': 'NHS Shetland',\n",
       "  'people': {'patients': 22990, 'staff': 598}},\n",
       " {'geographic': {'area_km_2': 7527,\n",
       "   'areas_covered': 'Angus, City of Dundee, Perth and Kinross'},\n",
       "  'budget_millions': {'2020': 809, '2021': 820, '2022': 857},\n",
       "  'name': 'NHS Tayside',\n",
       "  'people': {'patients': 416080, 'staff': 11460}},\n",
       " {'geographic': {'area_km_2': 3070, 'areas_covered': 'Outer Hebrides'},\n",
       "  'budget_millions': {'2020': 80, '2021': 81, '2022': 85},\n",
       "  'name': 'NHS Western Isles',\n",
       "  'people': {'patients': 26830, 'staff': 821}}]"
      ]
     },
     "execution_count": 34,
     "metadata": {},
     "output_type": "execute_result"
    }
   ],
   "source": [
    "boards_info"
   ]
  },
  {
   "cell_type": "code",
   "execution_count": null,
   "id": "b98a21fc",
   "metadata": {
    "scrolled": true
   },
   "outputs": [],
   "source": []
  },
  {
   "cell_type": "code",
   "execution_count": null,
   "id": "deaf5120",
   "metadata": {},
   "outputs": [],
   "source": []
  },
  {
   "cell_type": "code",
   "execution_count": null,
   "id": "6ea62ce5",
   "metadata": {},
   "outputs": [],
   "source": []
  },
  {
   "cell_type": "code",
   "execution_count": null,
   "id": "9fa5c4d6",
   "metadata": {},
   "outputs": [],
   "source": []
  },
  {
   "cell_type": "code",
   "execution_count": null,
   "id": "c7c207e5",
   "metadata": {},
   "outputs": [],
   "source": []
  },
  {
   "cell_type": "code",
   "execution_count": null,
   "id": "25d94219",
   "metadata": {},
   "outputs": [],
   "source": []
  }
 ],
 "metadata": {
  "kernelspec": {
   "display_name": "Python 3 (ipykernel)",
   "language": "python",
   "name": "python3"
  },
  "language_info": {
   "codemirror_mode": {
    "name": "ipython",
    "version": 3
   },
   "file_extension": ".py",
   "mimetype": "text/x-python",
   "name": "python",
   "nbconvert_exporter": "python",
   "pygments_lexer": "ipython3",
   "version": "3.10.9"
  }
 },
 "nbformat": 4,
 "nbformat_minor": 5
}
